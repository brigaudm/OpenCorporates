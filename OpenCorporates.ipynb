{
  "nbformat": 4,
  "nbformat_minor": 0,
  "metadata": {
    "colab": {
      "provenance": []
    },
    "kernelspec": {
      "name": "python3",
      "display_name": "Python 3"
    },
    "language_info": {
      "name": "python"
    }
  },
  "cells": [
    {
      "cell_type": "code",
      "execution_count": 1,
      "metadata": {
        "id": "P_tHDX_nIkhA"
      },
      "outputs": [],
      "source": [
        "from bs4 import BeautifulSoup as bs\n",
        "import requests"
      ]
    },
    {
      "cell_type": "code",
      "source": [
        "# assign (class) key to variable\n",
        "\n",
        "api_key2 = 'oT1eyxnGa3zUdwJWXmhA'"
      ],
      "metadata": {
        "id": "SVy8o9qZIxUR"
      },
      "execution_count": 2,
      "outputs": []
    },
    {
      "cell_type": "code",
      "source": [
        "# query api for account details\n",
        "\n",
        "account_status = f'https://api.opencorporates.com/account_status?api_token={api_key2}'\n",
        "req = requests.get(account_status)\n",
        "d = req.json()"
      ],
      "metadata": {
        "id": "mwiWLvYNJBfN"
      },
      "execution_count": 3,
      "outputs": []
    },
    {
      "cell_type": "code",
      "source": [
        "d['results']"
      ],
      "metadata": {
        "colab": {
          "base_uri": "https://localhost:8080/"
        },
        "id": "CVQ8g1GkJRzr",
        "outputId": "075c91e5-0c7e-4a7e-aac6-cd71ff091561"
      },
      "execution_count": 4,
      "outputs": [
        {
          "output_type": "execute_result",
          "data": {
            "text/plain": [
              "{'account_status': {'plan': 'open_data',\n",
              "  'expiry_date': '2024-05-15',\n",
              "  'status': 'expiring_soon',\n",
              "  'usage': {'today': 0, 'this_month': 0},\n",
              "  'calls_remaining': {'today': 10000, 'this_month': 50000},\n",
              "  'surge_enabled': 'False'}}"
            ]
          },
          "metadata": {},
          "execution_count": 4
        }
      ]
    },
    {
      "cell_type": "markdown",
      "source": [
        "###Companies"
      ],
      "metadata": {
        "id": "lTZbMCcBJ0Za"
      }
    },
    {
      "cell_type": "code",
      "source": [
        "# how many companies with the term 'Irish' in Japan?\n",
        "\n",
        "url = f'https://api.opencorporates.com/v0.4/companies/search?q=irish&jurisdiction_code=jp&api_token={api_key2}'\n",
        "\n",
        "req = requests.get(url)\n",
        "\n",
        "d = req.json()\n",
        "print('number of companies:', len(d['results']['companies']))\n",
        "\n",
        "for x in d['results']['companies']:\n",
        "  print(x['company']['name'])\n"
      ],
      "metadata": {
        "colab": {
          "base_uri": "https://localhost:8080/"
        },
        "id": "twJ0kkOvJ3I_",
        "outputId": "351d6540-16a3-4a6d-d654-dfd0baf284e2"
      },
      "execution_count": 5,
      "outputs": [
        {
          "output_type": "stream",
          "name": "stdout",
          "text": [
            "number of companies: 3\n",
            "合同会社Ｉｒｉｓｈ\n",
            "ＩＲＩＳＨ　ＴＲＡＤＥＲＳ株式会社\n",
            "Ｉｒｉｓｈ　Ｈｉｌｌ　Ｕｎｄｅｒｗｒｉｔｉｎｇ　（Ｎａｍｅｃｏ　Ｎｏ　５４３）　Ｌｉｍｉｔｅｄ\n"
          ]
        }
      ]
    },
    {
      "cell_type": "code",
      "source": [
        "# Tonton's brasserie\n",
        "\n",
        "company_url = 'https://api.opencorporates.com/v0.4/companies/search'\n",
        "\n",
        "#set up parameters\n",
        "data_params = {\n",
        "  'api_token':api_key2,\n",
        "  'country_code':'fr',\n",
        "  'q':'brasserie+de+la+vaunage'\n",
        "}\n",
        "\n",
        "# Perform and process get request\n",
        "req = requests.get(url = company_url, params=data_params)\n",
        "print(req.status_code)\n",
        "\n",
        "data = req.json()\n",
        "data"
      ],
      "metadata": {
        "colab": {
          "base_uri": "https://localhost:8080/"
        },
        "id": "NcIymd7BMpLV",
        "outputId": "1849cddf-9ba3-4f53-fc7d-aa341a567b97"
      },
      "execution_count": 6,
      "outputs": [
        {
          "output_type": "stream",
          "name": "stdout",
          "text": [
            "200\n"
          ]
        },
        {
          "output_type": "execute_result",
          "data": {
            "text/plain": [
              "{'api_version': '0.4',\n",
              " 'results': {'companies': [{'company': {'name': 'BLUE LEAN',\n",
              "     'company_number': '822570222',\n",
              "     'jurisdiction_code': 'fr',\n",
              "     'incorporation_date': '2016-09-10',\n",
              "     'dissolution_date': None,\n",
              "     'company_type': 'SAS, société par actions simplifiée',\n",
              "     'registry_url': None,\n",
              "     'branch': None,\n",
              "     'branch_status': None,\n",
              "     'inactive': False,\n",
              "     'current_status': 'Actif',\n",
              "     'created_at': '2017-02-22T22:47:38+00:00',\n",
              "     'updated_at': '2023-04-10T19:21:27+00:00',\n",
              "     'retrieved_at': '2023-02-03T13:03:11+00:00',\n",
              "     'opencorporates_url': 'https://opencorporates.com/companies/fr/822570222',\n",
              "     'previous_names': [],\n",
              "     'alternative_names': [{'company_name': 'BRASSERIE DE LA VAUNAGE',\n",
              "       'type': 'trading'}],\n",
              "     'source': {'publisher': 'Institut National de la Statistique et des Études Économiques (INSEE)',\n",
              "      'url': 'https://www.sirene.fr',\n",
              "      'retrieved_at': '2023-02-03T13:03:11+00:00',\n",
              "      'terms': 'French Open Government Licence \"Licence ouverte / Open Licence\"',\n",
              "      'terms_url': 'https://www.etalab.gouv.fr/licence-ouverte-open-licence'},\n",
              "     'registered_address': {'street_address': '96 PLACE DU TEMPLE',\n",
              "      'locality': 'BOISSIERES',\n",
              "      'region': 'GARD',\n",
              "      'postal_code': '30114',\n",
              "      'country': 'FRANCE'},\n",
              "     'registered_address_in_full': '96 PLACE DU TEMPLE, BOISSIERES, GARD, 30114',\n",
              "     'industry_codes': [{'industry_code': {'code': '70.22Z',\n",
              "        'description': 'Conseil pour les affaires et autres conseils de gestion',\n",
              "        'code_scheme_id': 'fr_naf_2008',\n",
              "        'code_scheme_name': \"Nomenclature d'activités française (2008)\",\n",
              "        'uid': 'fr_naf_2008-7022Z'}},\n",
              "      {'industry_code': {'code': '11.05Z-Z',\n",
              "        'description': 'Fabrication de bière',\n",
              "        'code_scheme_id': 'fr_naf_2008',\n",
              "        'code_scheme_name': \"Nomenclature d'activités française (2008)\",\n",
              "        'uid': 'fr_naf_2008-1105ZZ'}},\n",
              "      {'industry_code': {'code': '70.22',\n",
              "        'description': 'Business and other management consultancy activities',\n",
              "        'code_scheme_id': 'eu_nace_2',\n",
              "        'code_scheme_name': 'European Community NACE Rev 2',\n",
              "        'uid': 'eu_nace_2-7022'}},\n",
              "      {'industry_code': {'code': '7020',\n",
              "        'description': 'Management consultancy activities',\n",
              "        'code_scheme_id': 'isic_4',\n",
              "        'code_scheme_name': 'UN ISIC Rev 4',\n",
              "        'uid': 'isic_4-7020'}},\n",
              "      {'industry_code': {'code': '11.05',\n",
              "        'description': 'Manufacture of beer',\n",
              "        'code_scheme_id': 'eu_nace_2',\n",
              "        'code_scheme_name': 'European Community NACE Rev 2',\n",
              "        'uid': 'eu_nace_2-1105'}},\n",
              "      {'industry_code': {'code': '1103',\n",
              "        'description': 'Manufacture of malt liquors and malt',\n",
              "        'code_scheme_id': 'isic_4',\n",
              "        'code_scheme_name': 'UN ISIC Rev 4',\n",
              "        'uid': 'isic_4-1103'}}],\n",
              "     'restricted_for_marketing': None,\n",
              "     'native_company_number': None}}],\n",
              "  'page': 1,\n",
              "  'per_page': 30,\n",
              "  'total_pages': 1,\n",
              "  'total_count': 1}}"
            ]
          },
          "metadata": {},
          "execution_count": 6
        }
      ]
    },
    {
      "cell_type": "code",
      "source": [
        "# how many companies with the term 'tacos'\n",
        "\n",
        "search_url = 'https://api.opencorporates.com/v0.4/companies/search'\n",
        "country_code = 'jp'\n",
        "query = 'tacos'\n",
        "\n",
        "data_params = {\n",
        "    'api_token':api_key2,\n",
        "    'jurisdiction_code':country_code,\n",
        "    'per_page':100,\n",
        "    'q':query\n",
        "}\n",
        "\n",
        "\n",
        "req = requests.get(url = search_url, params=data_params)\n",
        "print(req.status_code)\n",
        "\n",
        "data_japan = req.json()\n",
        "print('number of companies:', len(data_japan['results']['companies']))"
      ],
      "metadata": {
        "colab": {
          "base_uri": "https://localhost:8080/"
        },
        "id": "wa70vzuHKnDQ",
        "outputId": "46b3c163-74a9-46d9-b23d-2f8fdab750d2"
      },
      "execution_count": 12,
      "outputs": [
        {
          "output_type": "stream",
          "name": "stdout",
          "text": [
            "200\n",
            "number of companies: 7\n"
          ]
        }
      ]
    },
    {
      "cell_type": "code",
      "source": [],
      "metadata": {
        "id": "RutJqdKgQFVB"
      },
      "execution_count": null,
      "outputs": []
    }
  ]
}